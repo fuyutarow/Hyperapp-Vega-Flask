{
 "cells": [
  {
   "cell_type": "code",
   "execution_count": 1,
   "metadata": {
    "scrolled": true
   },
   "outputs": [
    {
     "name": "stderr",
     "output_type": "stream",
     "text": [
      "/home/fytroo/anaconda3/lib/python3.6/site-packages/h5py/__init__.py:34: FutureWarning: Conversion of the second argument of issubdtype from `float` to `np.floating` is deprecated. In future, it will be treated as `np.float64 == np.dtype(float).type`.\n",
      "  from ._conv import register_converters as _register_converters\n",
      "Using TensorFlow backend.\n",
      "/home/fytroo/anaconda3/lib/python3.6/importlib/_bootstrap.py:205: RuntimeWarning: compiletime version 3.5 of module 'tensorflow.python.framework.fast_tensor_util' does not match runtime version 3.6\n",
      "  return f(*args, **kwds)\n"
     ]
    }
   ],
   "source": [
    "from keras.models import load_model"
   ]
  },
  {
   "cell_type": "code",
   "execution_count": 1,
   "metadata": {},
   "outputs": [
    {
     "name": "stderr",
     "output_type": "stream",
     "text": [
      "/home/fytroo/anaconda3/lib/python3.6/site-packages/h5py/__init__.py:34: FutureWarning: Conversion of the second argument of issubdtype from `float` to `np.floating` is deprecated. In future, it will be treated as `np.float64 == np.dtype(float).type`.\n",
      "  from ._conv import register_converters as _register_converters\n",
      "Using TensorFlow backend.\n",
      "/home/fytroo/anaconda3/lib/python3.6/importlib/_bootstrap.py:205: RuntimeWarning: compiletime version 3.5 of module 'tensorflow.python.framework.fast_tensor_util' does not match runtime version 3.6\n",
      "  return f(*args, **kwds)\n"
     ]
    }
   ],
   "source": [
    "from app import Master"
   ]
  },
  {
   "cell_type": "code",
   "execution_count": 2,
   "metadata": {
    "collapsed": true
   },
   "outputs": [],
   "source": [
    "master = Master(\"tuner.1517298006.model.hdf5\")"
   ]
  },
  {
   "cell_type": "code",
   "execution_count": 3,
   "metadata": {
    "collapsed": true
   },
   "outputs": [],
   "source": [
    "img_file = '../desk/birds-dataset/red_finch/100.jpg'"
   ]
  },
  {
   "cell_type": "code",
   "execution_count": 20,
   "metadata": {
    "collapsed": true
   },
   "outputs": [],
   "source": [
    "import pandas as pd\n",
    "import numpy as np\n",
    "import matplotlib.pyplot as plt"
   ]
  },
  {
   "cell_type": "code",
   "execution_count": 58,
   "metadata": {
    "collapsed": true
   },
   "outputs": [],
   "source": [
    "img_file = '/home/fytroo/camiviz/uploads/138.jpg'"
   ]
  },
  {
   "cell_type": "code",
   "execution_count": 59,
   "metadata": {
    "collapsed": true
   },
   "outputs": [],
   "source": [
    "pred =master.predict(img_file)"
   ]
  },
  {
   "cell_type": "code",
   "execution_count": 60,
   "metadata": {},
   "outputs": [
    {
     "data": {
      "text/plain": [
       "array([9.6236018e-21, 1.1056190e-11, 1.4751992e-14, 6.0187674e-11,\n",
       "       1.7880977e-04, 9.9982125e-01], dtype=float32)"
      ]
     },
     "execution_count": 60,
     "metadata": {},
     "output_type": "execute_result"
    }
   ],
   "source": [
    "pred"
   ]
  },
  {
   "cell_type": "code",
   "execution_count": 61,
   "metadata": {},
   "outputs": [
    {
     "data": {
      "text/plain": [
       "<matplotlib.axes._subplots.AxesSubplot at 0x7fc0413cb9e8>"
      ]
     },
     "execution_count": 61,
     "metadata": {},
     "output_type": "execute_result"
    }
   ],
   "source": [
    "df = pd.DataFrame(pred)\n",
    "df = df.T\n",
    "df.columns = [\n",
    "'red_finch',\n",
    "'red_parrot',\n",
    "'white_finch',\n",
    "'white_parrot',\n",
    "'yellow_finch',\n",
    "'yellow_parrot',\n",
    "]\n",
    "plt.style.use('ggplot')\n",
    "df.plot.bar()"
   ]
  },
  {
   "cell_type": "code",
   "execution_count": 62,
   "metadata": {},
   "outputs": [],
   "source": [
    "plt.bar(range(1, 1+df.size), \n",
    "height = np.ravel(df.values).tolist(),\n",
    "   tick_label=df.columns.values.tolist())\n",
    "\n",
    "plt.savefig('uploads/demo.png')"
   ]
  },
  {
   "cell_type": "code",
   "execution_count": 36,
   "metadata": {
    "collapsed": true
   },
   "outputs": [],
   "source": [
    "import numpy as np\n",
    "from tuner import load_data\n",
    "\n",
    "import pandas as pd"
   ]
  },
  {
   "cell_type": "code",
   "execution_count": 17,
   "metadata": {},
   "outputs": [
    {
     "name": "stdout",
     "output_type": "stream",
     "text": [
      "birds-dataset/red_finch/100.jpg\r\n"
     ]
    }
   ],
   "source": [
    "!ls birds-dataset/red_finch/100.jpg"
   ]
  },
  {
   "cell_type": "code",
   "execution_count": 28,
   "metadata": {
    "collapsed": true
   },
   "outputs": [],
   "source": [
    "img = load_data.arr_fromf(img_file, resize=96)"
   ]
  },
  {
   "cell_type": "code",
   "execution_count": 29,
   "metadata": {},
   "outputs": [
    {
     "data": {
      "image/png": "[encoded data removed]",
      "text/plain": [
       "<PIL.Image.Image image mode=RGB size=96x96 at 0x7F105B6990F0>"
      ]
     },
     "execution_count": 29,
     "metadata": {},
     "output_type": "execute_result"
    }
   ],
   "source": [
    "load_data.arr2img(img)"
   ]
  },
  {
   "cell_type": "code",
   "execution_count": 129,
   "metadata": {
    "collapsed": true
   },
   "outputs": [],
   "source": [
    "class Master:\n",
    "    def __init__(self, model):\n",
    "        self.model = model\n",
    "\n",
    "    def predict(self, file):\n",
    "        img = load_data.arr_fromf(file, rescale=1./255, resize=96)\n",
    "        xs = np.array([img])\n",
    "        y_pred = model.predict(xs)\n",
    "        y_pred = np.ravel(y_pred)\n",
    "        return y_pred\n",
    "\n",
    "    def vega(self, file):\n",
    "        y_pred = self.predict(file)\n",
    "        \n",
    "        l2v = {i: float(v*100) for i,v in enumerate(y_pred.tolist())}\n",
    "        values = [ {'label': str(label), 'probability': value} for label, value in l2v.items()]\n",
    "        vega_format = {\n",
    "  \"$schema\": \"https://vega.github.io/schema/vega-lite/v2.json\",\n",
    "  \"description\": \"A simple bar chart with embedded data.\",\n",
    "  \"data\": {\n",
    "      \"values\": values\n",
    "  },\n",
    "  \"mark\": \"bar\",\n",
    "  \"encoding\": {\n",
    "    \"x\": {\"field\": \"label\", \"type\": \"ordinal\"},\n",
    "    \"y\": {\"field\": \"probability\", \"type\": \"quantitative\"}\n",
    "  }\n",
    "}\n",
    "        return json.dumps(vega_format)"
   ]
  },
  {
   "cell_type": "code",
   "execution_count": 130,
   "metadata": {
    "collapsed": true
   },
   "outputs": [],
   "source": [
    "master = Master(\"tuner.1517298006.model.hdf5\")"
   ]
  },
  {
   "cell_type": "code",
   "execution_count": 131,
   "metadata": {},
   "outputs": [
    {
     "data": {
      "text/plain": [
       "'{\"$schema\": \"https://vega.github.io/schema/vega-lite/v2.json\", \"description\": \"A simple bar chart with embedded data.\", \"data\": {\"values\": [{\"label\": \"0\", \"probability\": 5.563214421272278}, {\"label\": \"1\", \"probability\": 0.0007127890967240091}, {\"label\": \"2\", \"probability\": 94.38362717628479}, {\"label\": \"3\", \"probability\": 0.0017712860426399857}, {\"label\": \"4\", \"probability\": 0.0506716372910887}, {\"label\": \"5\", \"probability\": 1.0083948609462823e-05}]}, \"mark\": \"bar\", \"encoding\": {\"x\": {\"field\": \"label\", \"type\": \"ordinal\"}, \"y\": {\"field\": \"probability\", \"type\": \"quantitative\"}}}'"
      ]
     },
     "execution_count": 131,
     "metadata": {},
     "output_type": "execute_result"
    }
   ],
   "source": [
    "master.vega(img_file)"
   ]
  },
  {
   "cell_type": "code",
   "execution_count": 72,
   "metadata": {
    "collapsed": true
   },
   "outputs": [],
   "source": []
  },
  {
   "cell_type": "code",
   "execution_count": 73,
   "metadata": {},
   "outputs": [
    {
     "data": {
      "text/plain": [
       "{0: 5, 1: 0, 2: 94, 3: 0, 4: 0, 5: 0}"
      ]
     },
     "execution_count": 73,
     "metadata": {},
     "output_type": "execute_result"
    }
   ],
   "source": [
    "l2v"
   ]
  },
  {
   "cell_type": "code",
   "execution_count": 85,
   "metadata": {},
   "outputs": [
    {
     "data": {
      "text/plain": [
       "[{'label': '0', 'probability': 5},\n",
       " {'label': '1', 'probability': 0},\n",
       " {'label': '2', 'probability': 94},\n",
       " {'label': '3', 'probability': 0},\n",
       " {'label': '4', 'probability': 0},\n",
       " {'label': '5', 'probability': 0}]"
      ]
     },
     "execution_count": 85,
     "metadata": {},
     "output_type": "execute_result"
    }
   ],
   "source": [
    "values"
   ]
  },
  {
   "cell_type": "code",
   "execution_count": 80,
   "metadata": {
    "collapsed": true
   },
   "outputs": [],
   "source": [
    "encoding = {\n",
    "    'x': {\n",
    "        'fileld': 'label',\n",
    "        'type': 'ordinal',\n",
    "    },\n",
    "    'y': {\n",
    "        'fileld': 'probability',\n",
    "        'type': 'quantitative',\n",
    "    }\n",
    "}"
   ]
  },
  {
   "cell_type": "code",
   "execution_count": 122,
   "metadata": {
    "collapsed": true
   },
   "outputs": [],
   "source": [
    "values = [ {'label': str(label), 'probability': value} for label, value in l2v.items()]"
   ]
  },
  {
   "cell_type": "code",
   "execution_count": 123,
   "metadata": {
    "collapsed": true
   },
   "outputs": [],
   "source": [
    "import json"
   ]
  },
  {
   "cell_type": "code",
   "execution_count": 124,
   "metadata": {
    "collapsed": true
   },
   "outputs": [],
   "source": [
    "\n"
   ]
  },
  {
   "cell_type": "code",
   "execution_count": 125,
   "metadata": {},
   "outputs": [
    {
     "data": {
      "text/plain": [
       "'{\"$schema\": \"https://vega.github.io/schema/vega-lite/v2.json\", \"description\": \"A simple bar chart with embedded data.\", \"data\": {\"values\": [{\"label\": \"0\", \"probability\": 5}, {\"label\": \"1\", \"probability\": 0}, {\"label\": \"2\", \"probability\": 94}, {\"label\": \"3\", \"probability\": 0}, {\"label\": \"4\", \"probability\": 0}, {\"label\": \"5\", \"probability\": 0}]}, \"mark\": \"bar\", \"encoding\": {\"x\": {\"field\": \"label\", \"type\": \"ordinal\"}, \"y\": {\"field\": \"probability\", \"type\": \"quantitative\"}}}'"
      ]
     },
     "execution_count": 125,
     "metadata": {},
     "output_type": "execute_result"
    }
   ],
   "source": [
    "json.dumps(jjj)"
   ]
  },
  {
   "cell_type": "code",
   "execution_count": null,
   "metadata": {
    "collapsed": true
   },
   "outputs": [],
   "source": []
  }
 ],
 "metadata": {
  "kernelspec": {
   "display_name": "Python 3",
   "language": "python",
   "name": "python3"
  },
  "language_info": {
   "codemirror_mode": {
    "name": "ipython",
    "version": 3
   },
   "file_extension": ".py",
   "mimetype": "text/x-python",
   "name": "python",
   "nbconvert_exporter": "python",
   "pygments_lexer": "ipython3",
   "version": "3.6.1"
  }
 },
 "nbformat": 4,
 "nbformat_minor": 2
}
